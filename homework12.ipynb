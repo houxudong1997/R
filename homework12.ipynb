{
 "cells": [
  {
   "cell_type": "code",
   "execution_count": 9,
   "metadata": {},
   "outputs": [],
   "source": [
    "import numpy as np\n",
    "import pandas as pd\n",
    "import matplotlib.pyplot as plt\n",
    "import matplotlib as pl\n",
    "import scipy\n",
    "from scipy.optimize import leastsq\n",
    "from scipy import stats"
   ]
  },
  {
   "cell_type": "code",
   "execution_count": 10,
   "metadata": {},
   "outputs": [
    {
     "data": {
      "text/html": [
       "<div>\n",
       "<style scoped>\n",
       "    .dataframe tbody tr th:only-of-type {\n",
       "        vertical-align: middle;\n",
       "    }\n",
       "\n",
       "    .dataframe tbody tr th {\n",
       "        vertical-align: top;\n",
       "    }\n",
       "\n",
       "    .dataframe thead th {\n",
       "        text-align: right;\n",
       "    }\n",
       "</style>\n",
       "<table border=\"1\" class=\"dataframe\">\n",
       "  <thead>\n",
       "    <tr style=\"text-align: right;\">\n",
       "      <th></th>\n",
       "      <th>date</th>\n",
       "      <th>day_number</th>\n",
       "      <th>A</th>\n",
       "      <th>B</th>\n",
       "    </tr>\n",
       "  </thead>\n",
       "  <tbody>\n",
       "    <tr>\n",
       "      <th>0</th>\n",
       "      <td>2.20</td>\n",
       "      <td>0</td>\n",
       "      <td>100</td>\n",
       "      <td>100</td>\n",
       "    </tr>\n",
       "    <tr>\n",
       "      <th>1</th>\n",
       "      <td>5.13</td>\n",
       "      <td>100</td>\n",
       "      <td>250</td>\n",
       "      <td>203</td>\n",
       "    </tr>\n",
       "    <tr>\n",
       "      <th>2</th>\n",
       "      <td>8.21</td>\n",
       "      <td>200</td>\n",
       "      <td>304</td>\n",
       "      <td>214</td>\n",
       "    </tr>\n",
       "    <tr>\n",
       "      <th>3</th>\n",
       "      <td>11.29</td>\n",
       "      <td>300</td>\n",
       "      <td>403</td>\n",
       "      <td>295</td>\n",
       "    </tr>\n",
       "    <tr>\n",
       "      <th>4</th>\n",
       "      <td>3.80</td>\n",
       "      <td>400</td>\n",
       "      <td>446</td>\n",
       "      <td>330</td>\n",
       "    </tr>\n",
       "    <tr>\n",
       "      <th>5</th>\n",
       "      <td>6.16</td>\n",
       "      <td>500</td>\n",
       "      <td>482</td>\n",
       "      <td>324</td>\n",
       "    </tr>\n",
       "  </tbody>\n",
       "</table>\n",
       "</div>"
      ],
      "text/plain": [
       "    date  day_number    A    B\n",
       "0   2.20           0  100  100\n",
       "1   5.13         100  250  203\n",
       "2   8.21         200  304  214\n",
       "3  11.29         300  403  295\n",
       "4   3.80         400  446  330\n",
       "5   6.16         500  482  324"
      ]
     },
     "execution_count": 10,
     "metadata": {},
     "output_type": "execute_result"
    }
   ],
   "source": [
    "data = pd.read_csv(\"homework12.csv\")\n",
    "data"
   ]
  },
  {
   "cell_type": "code",
   "execution_count": 11,
   "metadata": {},
   "outputs": [
    {
     "name": "stderr",
     "output_type": "stream",
     "text": [
      "/usr/lib/python3/dist-packages/matplotlib/font_manager.py:1320: UserWarning: findfont: Font family ['sans-serif'] not found. Falling back to DejaVu Sans\n",
      "  (prop.get_family(), self.defaultFamily[fontext]))\n"
     ]
    },
    {
     "data": {
      "image/png": "[encoded data removed]",
      "text/plain": [
       "<matplotlib.figure.Figure at 0xad12af70>"
      ]
     },
     "metadata": {},
     "output_type": "display_data"
    }
   ],
   "source": [
    "X = data[\"day_number\"]\n",
    "Y1 = data[\"A\"]\n",
    "Y2 = data[\"B\"]\n",
    "\n",
    "plt.figure()\n",
    "plt.xlabel(u\"days\")\n",
    "plt.ylabel(u\"numbers\")\n",
    "plt.axis([0, 550, 0, 500])\n",
    "plt.scatter(X, Y1, marker=\"o\",color=\"g\", s=50)\n",
    "plt.scatter(X, Y2, marker=\"o\",color=\"r\", s=50)\n",
    "plt.show()\n"
   ]
  },
  {
   "cell_type": "code",
   "execution_count": 13,
   "metadata": {},
   "outputs": [
    {
     "name": "stdout",
     "output_type": "stream",
     "text": [
      "Fitting Parameters1 ： [ -1.09461847e-03   1.28922764e+00   1.08896241e+02] \n",
      " std_1: 142.731099157\n",
      "Fitting Parameters2 ： [ -8.04250681e-04   8.54236000e-01   1.04521225e+02] \n",
      " std_2: 89.1216397216\n"
     ]
    },
    {
     "name": "stderr",
     "output_type": "stream",
     "text": [
      "/usr/lib/python3/dist-packages/matplotlib/font_manager.py:1320: UserWarning: findfont: Font family ['sans-serif'] not found. Falling back to DejaVu Sans\n",
      "  (prop.get_family(), self.defaultFamily[fontext]))\n"
     ]
    },
    {
     "data": {
      "image/png": "[encoded data removed]",
      "text/plain": [
       "<matplotlib.figure.Figure at 0xad13e6b0>"
      ]
     },
     "metadata": {},
     "output_type": "display_data"
    }
   ],
   "source": [
    "m = 3\n",
    "def fake_func(p, x):\n",
    "    f = np.poly1d(p)\n",
    "    return f(x)\n",
    "def residuals(p, y, x):\n",
    "    return y - fake_func(p, x)\n",
    "x = X\n",
    "x_show = X\n",
    "y1 = [np.random.normal(0, 0.1) + y for y in Y1]\n",
    "y2 = [np.random.normal(0, 0.1) + y for y in Y2]\n",
    "\n",
    "p0 = np.random.randn(m)\n",
    "\n",
    "plsq = leastsq(residuals, p0, args=(y1, x))\n",
    "plsq2 = leastsq(residuals, p0, args=(y2, x))\n",
    "\n",
    "std_1 = np.std(Y1, ddof=1)\n",
    "std_2 = np.std(Y2, ddof=1)\n",
    "\n",
    "print('Fitting Parameters1 ：', plsq[0], \"\\n\", \"std_1:\", std_1)\n",
    "print('Fitting Parameters2 ：', plsq2[0], \"\\n\", \"std_2:\", std_2) \n",
    " \n",
    "\n",
    "plt.plot(x_show, fake_func(plsq[0], x_show), label='A')\n",
    "plt.plot(x_show, fake_func(plsq2[0], x_show), label='B')\n",
    "plt.plot(x, y1, 'bo', label='with noise')\n",
    "plt.plot(x, y2, 'bo')\n",
    "plt.legend()\n",
    "plt.show()"
   ]
  },
  {
   "cell_type": "code",
   "execution_count": 14,
   "metadata": {},
   "outputs": [
    {
     "data": {
      "text/plain": [
       "LeveneResult(statistic=1.3238336369530981, pvalue=0.27667508704468685)"
      ]
     },
     "execution_count": 14,
     "metadata": {},
     "output_type": "execute_result"
    }
   ],
   "source": [
    "stats.levene(Y1, Y2)"
   ]
  },
  {
   "cell_type": "code",
   "execution_count": 15,
   "metadata": {},
   "outputs": [
    {
     "data": {
      "text/plain": [
       "Ttest_indResult(statistic=1.2591710433748455, pvalue=0.23656639305657989)"
      ]
     },
     "execution_count": 15,
     "metadata": {},
     "output_type": "execute_result"
    }
   ],
   "source": [
    "stats.ttest_ind(Y1, Y2)"
   ]
  },
  {
   "cell_type": "markdown",
   "metadata": {},
   "source": [
    "### pvalue=0.2365663930565799 > 0.05的值, so we accept H0.\n",
    "It means, in the unfavorable environment, the survival rate of the cross-bred was greater than cin-bed."
   ]
  }
 ],
 "metadata": {
  "kernelspec": {
   "display_name": "Python 3",
   "language": "python",
   "name": "python3"
  },
  "language_info": {
   "codemirror_mode": {
    "name": "ipython",
    "version": 3
   },
   "file_extension": ".py",
   "mimetype": "text/x-python",
   "name": "python",
   "nbconvert_exporter": "python",
   "pygments_lexer": "ipython3",
   "version": "3.6.5"
  }
 },
 "nbformat": 4,
 "nbformat_minor": 4
}
